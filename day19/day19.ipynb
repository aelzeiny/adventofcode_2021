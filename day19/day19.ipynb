{
 "cells": [
  {
   "cell_type": "code",
   "execution_count": 1,
   "id": "b10d53d3",
   "metadata": {},
   "outputs": [],
   "source": [
    "import plotly.express as px\n",
    "import pandas as pd\n",
    "import numpy as np\n",
    "from typing import List, Tuple, Iterable, Dict\n",
    "from collections import namedtuple, defaultdict"
   ]
  },
  {
   "cell_type": "code",
   "execution_count": 2,
   "id": "0f1f1a2a",
   "metadata": {},
   "outputs": [],
   "source": [
    "def to_df(grid):\n",
    "    return pd.DataFrame(grid, columns=['x', 'y', 'z'])"
   ]
  },
  {
   "cell_type": "code",
   "execution_count": 3,
   "id": "41c46526",
   "metadata": {},
   "outputs": [],
   "source": [
    "# fig = px.scatter_3d(pd.concat([df, df_2, df_3, zero]), x='x', y='y', z='z', color='beacon')\n",
    "# fig.show()"
   ]
  },
  {
   "cell_type": "code",
   "execution_count": 4,
   "id": "73e9b4d7",
   "metadata": {},
   "outputs": [],
   "source": [
    "class Vector3(namedtuple('Coord', ('x', 'y', 'z'))):\n",
    "    def rotate24(self):\n",
    "        \"\"\"Disclaimer. I got real tired of this part and found a solution online.\n",
    "        From what I can tell from the thread, nobody liked this part of the problem.\n",
    "        \"\"\"\n",
    "        yield self.__class__((self.x), (self.y), (self.z))\n",
    "        yield self.__class__((self.y), (self.z), (self.x))\n",
    "        yield self.__class__((self.z), (self.x), (self.y))\n",
    "        yield self.__class__((-self.x), (-self.y), (self.z))\n",
    "        yield self.__class__((-self.y), (-self.z), (self.x))\n",
    "        yield self.__class__((-self.z), (-self.x), (self.y))\n",
    "        yield self.__class__((-self.x), (self.y), (-self.z))\n",
    "        yield self.__class__((-self.y), (self.z), (-self.x))\n",
    "        yield self.__class__((-self.z), (self.x), (-self.y))\n",
    "        yield self.__class__((self.x), (-self.y), (-self.z))\n",
    "        yield self.__class__((self.y), (-self.z), (-self.x))\n",
    "        yield self.__class__((self.z), (-self.x), (-self.y))\n",
    "        yield self.__class__((self.y), (self.x), (-self.z))\n",
    "        yield self.__class__((self.x), (-self.z), (self.y))\n",
    "        yield self.__class__((-self.z), (self.y), (self.x))\n",
    "        yield self.__class__((-self.y), (-self.x), (-self.z))\n",
    "        yield self.__class__((-self.x), (self.z), (self.y))\n",
    "        yield self.__class__((self.z), (-self.y), (self.x))\n",
    "        yield self.__class__((-self.y), (self.x), (self.z))\n",
    "        yield self.__class__((-self.x), (-self.z), (-self.y))\n",
    "        yield self.__class__((self.z), (self.y), (-self.x))\n",
    "        yield self.__class__((self.y), (-self.x), (self.z))\n",
    "        yield self.__class__((self.x), (self.z), (-self.y))\n",
    "        yield self.__class__((-self.z), (-self.y), (-self.x))\n",
    "        \n",
    "    def __add__(self, other: 'Vector3'):\n",
    "        return self.__class__(self.x + other.x, self.y + other.y, self.z + other.z) \n",
    "    \n",
    "    def __sub__(self, other: 'Vector3'):\n",
    "        return self.__class__(self.x - other.x, self.y - other.y, self.z - other.z)\n",
    "    \n",
    "    def distance_sq(self):\n",
    "        return self.x * self.x + self.y * self.y + self.z * self.z\n",
    "    \n",
    "    def manhattan(self):\n",
    "        return abs(self.x) + abs(self.y) + abs(self.z)"
   ]
  },
  {
   "cell_type": "code",
   "execution_count": 5,
   "id": "0ebd10c6",
   "metadata": {},
   "outputs": [],
   "source": [
    "def rotate24_grid(beacons: List[Vector3]) -> Iterable[List[Vector3]]:\n",
    "    rotate_iter = [c.rotate24() for c in beacons]\n",
    "    for i in range(24):\n",
    "        yield [next(generator) for generator in rotate_iter]\n",
    "        \n",
    "\n",
    "def rotate24_grid_to(beacons: List[Vector3], alignment_id: int) -> List[Vector3]:\n",
    "    beacons_gen = rotate24_grid(beacons)\n",
    "    for i in range(alignment_id + 1):\n",
    "        rotated_scanner = next(beacons_gen)\n",
    "    return rotated_scanner\n",
    "\n",
    "\n",
    "def translate_grid_to(beacons: List[Vector3], delta: Vector3) -> List[Vector3]:\n",
    "    return [\n",
    "        b + delta\n",
    "        for b in beacons\n",
    "    ]\n",
    "        \n",
    "\n",
    "def parse_scanner(lines: str) -> List[Vector3]:\n",
    "    return [\n",
    "        Vector3(*(int(i.strip()) for i in x.split(',') if i.strip()))\n",
    "        for x in lines.split('\\n') if x.strip()\n",
    "    ]"
   ]
  },
  {
   "cell_type": "code",
   "execution_count": 6,
   "id": "901721a4",
   "metadata": {},
   "outputs": [],
   "source": [
    "Fingerprint = Dict[int, Tuple[int, int]]  # distanceSq -> [beaconIndex, beaconIndex]\n",
    "\n",
    "def fingerprint_scanner(beacons: List[Vector3]) -> Fingerprint:\n",
    "    \"\"\"The idea here is to make a set of distances from known nodes.\n",
    "    sqrt(x^2 + y^2 + z^2) will be unique regardless of orientation.\n",
    "    Also, we don't need to apply the costly square-root.\n",
    "    \n",
    "    A fingerprint should only have UNIQUE distances. If a distance \n",
    "    is not unique to the beacon, it is not an identity.\n",
    "    \"\"\"\n",
    "    fingerprint = {}\n",
    "    duplicate_distances = set()\n",
    "    for i, coord_i in enumerate(beacons):\n",
    "        for j, coord_j in enumerate(beacons):\n",
    "            if i == j:\n",
    "                continue\n",
    "            dist = (coord_i - coord_j).distance_sq()\n",
    "            if dist in duplicate_distances:\n",
    "                continue\n",
    "            if dist in fingerprint:\n",
    "                duplicate_distances.add(dist)\n",
    "                del fingerprint[dist]\n",
    "            fingerprint[dist] = (i, j)\n",
    "    return fingerprint"
   ]
  },
  {
   "cell_type": "code",
   "execution_count": 7,
   "id": "61b068a6",
   "metadata": {},
   "outputs": [
    {
     "name": "stdout",
     "output_type": "stream",
     "text": [
      "{3: (1, 0), 12: (2, 0), 5: (2, 3), 2: (3, 1), 110: (4, 0), 149: (4, 1), 194: (4, 2), 155: (4, 3), 118: (5, 0), 129: (5, 1), 146: (5, 2), 145: (5, 3), 166: (5, 4)}\n",
      "{3: (1, 0), 12: (2, 0), 5: (2, 3), 2: (3, 1), 110: (4, 0), 149: (4, 1), 194: (4, 2), 155: (4, 3), 118: (5, 0), 129: (5, 1), 146: (5, 2), 145: (5, 3), 166: (5, 4)}\n",
      "{3: (1, 0), 12: (2, 0), 5: (2, 3), 2: (3, 1), 110: (4, 0), 149: (4, 1), 194: (4, 2), 155: (4, 3), 118: (5, 0), 129: (5, 1), 146: (5, 2), 145: (5, 3), 166: (5, 4)}\n",
      "{3: (1, 0), 12: (2, 0), 5: (2, 3), 2: (3, 1), 110: (4, 0), 149: (4, 1), 194: (4, 2), 155: (4, 3), 118: (5, 0), 129: (5, 1), 146: (5, 2), 145: (5, 3), 166: (5, 4)}\n",
      "{3: (1, 0), 12: (2, 0), 5: (2, 3), 2: (3, 1), 110: (4, 0), 149: (4, 1), 194: (4, 2), 155: (4, 3), 118: (5, 0), 129: (5, 1), 146: (5, 2), 145: (5, 3), 166: (5, 4)}\n"
     ]
    }
   ],
   "source": [
    "example_scanners = '''\n",
    "--- scanner 0 ---\n",
    "-1,-1,1\n",
    "-2,-2,2\n",
    "-3,-3,3\n",
    "-2,-3,1\n",
    "5,6,-4\n",
    "8,0,7\n",
    "\n",
    "--- scanner 0 ---\n",
    "1,-1,1\n",
    "2,-2,2\n",
    "3,-3,3\n",
    "2,-1,3\n",
    "-5,4,-6\n",
    "-8,-7,0\n",
    "\n",
    "--- scanner 0 ---\n",
    "-1,-1,-1\n",
    "-2,-2,-2\n",
    "-3,-3,-3\n",
    "-1,-3,-2\n",
    "4,6,5\n",
    "-7,0,8\n",
    "\n",
    "--- scanner 0 ---\n",
    "1,1,-1\n",
    "2,2,-2\n",
    "3,3,-3\n",
    "1,3,-2\n",
    "-4,-6,5\n",
    "7,0,8\n",
    "\n",
    "--- scanner 0 ---\n",
    "1,1,1\n",
    "2,2,2\n",
    "3,3,3\n",
    "3,1,2\n",
    "-6,-4,-5\n",
    "0,7,-8\n",
    "'''\n",
    "\n",
    "# All of these should be equal, because they're in the same orientation\n",
    "for scanner_lines in example_scanners.split('--- scanner 0 ---'):\n",
    "    if scanner_lines.strip():\n",
    "        print(fingerprint_scanner(parse_scanner(scanner_lines)))"
   ]
  },
  {
   "cell_type": "code",
   "execution_count": 8,
   "id": "f8ed2660",
   "metadata": {},
   "outputs": [],
   "source": [
    "def parse_multiple_scanners(scanners_str: str):\n",
    "    scanners = []\n",
    "    curr_scanner = []\n",
    "    for line in scanners_str.split('\\n'):\n",
    "        if line.startswith('--- scanner'):\n",
    "            if curr_scanner:\n",
    "                scanners.append(curr_scanner)            \n",
    "            curr_scanner = []\n",
    "        elif line.strip():\n",
    "            curr_scanner.append(Vector3(*(int(i) for i in line.split(','))))\n",
    "    scanners.append(curr_scanner)\n",
    "    return scanners"
   ]
  },
  {
   "cell_type": "code",
   "execution_count": 9,
   "id": "7e32b90f",
   "metadata": {},
   "outputs": [],
   "source": [
    "def get_alignment_ids(v0: Vector3, v1: Vector3):\n",
    "    \"\"\"Rotate v1 to match v0. Return a number between 0 and 23 representing the alignment id\"\"\"\n",
    "    for i, v1_rotated in enumerate(v1.rotate24()):\n",
    "        if v0 == v1_rotated:\n",
    "            yield i\n",
    "    return -1\n"
   ]
  },
  {
   "cell_type": "code",
   "execution_count": 10,
   "id": "697cf3af",
   "metadata": {},
   "outputs": [],
   "source": [
    "def find_best_rotation(\n",
    "        scanner_from: List[Vector3], \n",
    "        scanner_to: List[Vector3], \n",
    "        fingerprint_from: Fingerprint, \n",
    "        fingerprint_to: Fingerprint):\n",
    "    alignment_id_counts = defaultdict(int)\n",
    "    matching_fingerprints = fingerprint_from.keys() & fingerprint_to.keys()\n",
    "    for matching_fingerprint in matching_fingerprints:\n",
    "        i_from, j_from = fingerprint_from[matching_fingerprint]\n",
    "        i_to, j_to = fingerprint_to[matching_fingerprint]\n",
    "        x = Vector3(-447,-329,318)\n",
    "        delta_from = scanner_from[j_from] - scanner_from[i_from]\n",
    "        delta_to = scanner_to[j_to] - scanner_to[i_to]\n",
    "        for alignment_id in get_alignment_ids(delta_from, delta_to):\n",
    "            alignment_id_counts[alignment_id] += 1\n",
    "\n",
    "    if not alignment_id_counts:\n",
    "        return None\n",
    "    return max(alignment_id_counts, key=alignment_id_counts.get)\n",
    "\n",
    "def find_best_translation(\n",
    "        scanner_from: List[Vector3], \n",
    "        scanner_to: List[Vector3], \n",
    "        fingerprint_from: Fingerprint, \n",
    "        fingerprint_to: Fingerprint):\n",
    "    matching_deltas = defaultdict(int)\n",
    "\n",
    "    for matching_fingerprint in fingerprint_from.keys() & fingerprint_to.keys():\n",
    "        i_from, j_from = fingerprint_from[matching_fingerprint]\n",
    "        i_to, j_to = fingerprint_to[matching_fingerprint]\n",
    "        vfrom_start, vfrom_end = sorted((scanner_from[i_from], scanner_from[j_from]))\n",
    "        vto_start, vto_end = sorted((scanner_to[i_to], scanner_to[j_to]))\n",
    "        start_delta = vfrom_start - vto_start\n",
    "        end_delta = vfrom_end - vto_end\n",
    "        if start_delta == end_delta:\n",
    "            matching_deltas[start_delta] += 1\n",
    "    return max(matching_deltas, key=matching_deltas.get)"
   ]
  },
  {
   "cell_type": "markdown",
   "id": "c03ceede",
   "metadata": {},
   "source": [
    "### Example"
   ]
  },
  {
   "cell_type": "code",
   "execution_count": 18,
   "id": "b1fdd0b7",
   "metadata": {},
   "outputs": [
    {
     "name": "stdout",
     "output_type": "stream",
     "text": [
      "Vector3(x=68, y=-1246, z=-43)\n",
      "Vector3(x=1105, y=-1205, z=1229)\n",
      "Vector3(x=-92, y=-2380, z=-20)\n",
      "Vector3(x=-20, y=-1133, z=1061)\n"
     ]
    },
    {
     "data": {
      "text/plain": [
       "79"
      ]
     },
     "execution_count": 18,
     "metadata": {},
     "output_type": "execute_result"
    }
   ],
   "source": [
    "with open('./day19_example_input.txt') as f:\n",
    "    all_scanners = parse_multiple_scanners(f.read())\n",
    "\n",
    "scanner0 = all_scanners[0]\n",
    "translations = []\n",
    "for scanner1 in all_scanners[1:]:\n",
    "    fingerprint0 = fingerprint_scanner(scanner0)\n",
    "    fingerprint1 = fingerprint_scanner(scanner1)\n",
    "    best_rotation = find_best_rotation(scanner0, scanner1, fingerprint0, fingerprint1)\n",
    "    rotated_scanner1 = rotate24_grid_to(scanner1, best_rotation)\n",
    "    best_translation = find_best_translation(scanner0, rotated_scanner1, fingerprint0, fingerprint1)\n",
    "    translations.append(best_translation)\n",
    "    translated_scanner1 = translate_grid_to(rotated_scanner1, best_translation)\n",
    "    print(best_translation)\n",
    "    scanner0 = list(set(scanner0) | set(translated_scanner1))\n",
    "    \n",
    "len(scanner0)"
   ]
  },
  {
   "cell_type": "code",
   "execution_count": 19,
   "id": "64d02bae",
   "metadata": {},
   "outputs": [
    {
     "data": {
      "text/plain": [
       "(79, 0, 0)"
      ]
     },
     "execution_count": 19,
     "metadata": {},
     "output_type": "execute_result"
    }
   ],
   "source": [
    "expected = set([Vector3(-892,524,684), Vector3(-876,649,763), Vector3(-838,591,734), Vector3(-789,900,-551), Vector3(-739,-1745,668), Vector3(-706,-3180,-659), Vector3(-697,-3072,-689), Vector3(-689,845,-530), Vector3(-687,-1600,576), Vector3(-661,-816,-575), Vector3(-654,-3158,-753), Vector3(-635,-1737,486), Vector3(-631,-672,1502), Vector3(-624,-1620,1868), Vector3(-620,-3212,371), Vector3(-618,-824,-621), Vector3(-612,-1695,1788), Vector3(-601,-1648,-643), Vector3(-584,868,-557), Vector3(-537,-823,-458), Vector3(-532,-1715,1894), Vector3(-518,-1681,-600), Vector3(-499,-1607,-770), Vector3(-485,-357,347), Vector3(-470,-3283,303), Vector3(-456,-621,1527), Vector3(-447,-329,318), Vector3(-430,-3130,366), Vector3(-413,-627,1469), Vector3(-345,-311,381), Vector3(-36,-1284,1171), Vector3(-27,-1108,-65), Vector3(7,-33,-71), Vector3(12,-2351,-103), Vector3(26,-1119,1091), Vector3(346,-2985,342), Vector3(366,-3059,397), Vector3(377,-2827,367), Vector3(390,-675,-793), Vector3(396,-1931,-563), Vector3(404,-588,-901), Vector3(408,-1815,803), Vector3(423,-701,434), Vector3(432,-2009,850), Vector3(443,580,662), Vector3(455,729,728), Vector3(456,-540,1869), Vector3(459,-707,401), Vector3(465,-695,1988), Vector3(474,580,667), Vector3(496,-1584,1900), Vector3(497,-1838,-617), Vector3(527,-524,1933), Vector3(528,-643,409), Vector3(534,-1912,768), Vector3(544,-627,-890), Vector3(553,345,-567), Vector3(564,392,-477), Vector3(568,-2007,-577), Vector3(605,-1665,1952), Vector3(612,-1593,1893), Vector3(630,319,-379), Vector3(686,-3108,-505), Vector3(776,-3184,-501), Vector3(846,-3110,-434), Vector3(1135,-1161,1235), Vector3(1243,-1093,1063), Vector3(1660,-552,429), Vector3(1693,-557,386), Vector3(1735,-437,1738), Vector3(1749,-1800,1813), Vector3(1772,-405,1572), Vector3(1776,-675,371), Vector3(1779,-442,1789), Vector3(1780,-1548,337), Vector3(1786,-1538,337), Vector3(1847,-1591,415), Vector3(1889,-1729,1762), Vector3(1994,-1805,1792)])\n",
    "actual = set(scanner0)\n",
    "len(actual & expected), len(actual - expected), len(expected - actual)"
   ]
  },
  {
   "cell_type": "code",
   "execution_count": 20,
   "id": "eec4732e",
   "metadata": {},
   "outputs": [
    {
     "data": {
      "text/plain": [
       "3621"
      ]
     },
     "execution_count": 20,
     "metadata": {},
     "output_type": "execute_result"
    }
   ],
   "source": [
    "max([\n",
    "    (j - i).manhattan()\n",
    "    for i in translations \n",
    "    for j in translations\n",
    "])"
   ]
  },
  {
   "cell_type": "markdown",
   "id": "17164d9e",
   "metadata": {},
   "source": [
    "### Part 1"
   ]
  },
  {
   "cell_type": "code",
   "execution_count": 13,
   "id": "f8de4eaf",
   "metadata": {},
   "outputs": [
    {
     "data": {
      "text/plain": [
       "315"
      ]
     },
     "execution_count": 13,
     "metadata": {},
     "output_type": "execute_result"
    }
   ],
   "source": [
    "with open('./day19_input.txt') as f:\n",
    "    all_scanners = parse_multiple_scanners(f.read())\n",
    "\n",
    "translations = []\n",
    "scanner0 = all_scanners[0]\n",
    "while all_scanners:\n",
    "    scanner1 = all_scanners.pop()\n",
    "    fingerprint0 = fingerprint_scanner(scanner0)\n",
    "    fingerprint1 = fingerprint_scanner(scanner1)\n",
    "    best_rotation = find_best_rotation(scanner0, scanner1, fingerprint0, fingerprint1)\n",
    "    if best_rotation is None:\n",
    "        all_scanners.insert(0, scanner1)\n",
    "        continue\n",
    "    rotated_scanner1 = rotate24_grid_to(scanner1, best_rotation)\n",
    "    best_translation = find_best_translation(scanner0, rotated_scanner1, fingerprint0, fingerprint1)\n",
    "    translated_scanner1 = translate_grid_to(rotated_scanner1, best_translation)\n",
    "    translations.append(best_translation)\n",
    "    scanner0 = list(set(scanner0) | set(translated_scanner1))\n",
    "    \n",
    "len(scanner0)"
   ]
  },
  {
   "cell_type": "code",
   "execution_count": 15,
   "id": "cfba0bd0",
   "metadata": {},
   "outputs": [
    {
     "data": {
      "text/plain": [
       "13192"
      ]
     },
     "execution_count": 15,
     "metadata": {},
     "output_type": "execute_result"
    }
   ],
   "source": [
    "max([\n",
    "    (j - i).manhattan()\n",
    "    for i in translations \n",
    "    for j in translations\n",
    "])"
   ]
  },
  {
   "cell_type": "code",
   "execution_count": null,
   "id": "61477000",
   "metadata": {},
   "outputs": [],
   "source": []
  }
 ],
 "metadata": {
  "kernelspec": {
   "display_name": "Python 3",
   "language": "python",
   "name": "python3"
  },
  "language_info": {
   "codemirror_mode": {
    "name": "ipython",
    "version": 3
   },
   "file_extension": ".py",
   "mimetype": "text/x-python",
   "name": "python",
   "nbconvert_exporter": "python",
   "pygments_lexer": "ipython3",
   "version": "3.6.13"
  }
 },
 "nbformat": 4,
 "nbformat_minor": 5
}
