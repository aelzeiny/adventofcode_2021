{
 "cells": [
  {
   "cell_type": "code",
   "execution_count": 1,
   "id": "0b5557cc",
   "metadata": {},
   "outputs": [],
   "source": [
    "from itertools import permutations, combinations"
   ]
  },
  {
   "cell_type": "code",
   "execution_count": 2,
   "id": "7f129892",
   "metadata": {},
   "outputs": [],
   "source": [
    "possible_rolls = [\n",
    "    sum((d1 + 1, d2 + 1, d3 + 1)) \n",
    "    for d1 in range(3)\n",
    "    for d2 in range(3)\n",
    "    for d3 in range(3)\n",
    "]"
   ]
  },
  {
   "cell_type": "code",
   "execution_count": 5,
   "id": "89e6240a",
   "metadata": {},
   "outputs": [],
   "source": [
    "from collections import defaultdict"
   ]
  },
  {
   "cell_type": "code",
   "execution_count": 9,
   "id": "00ae4f3b",
   "metadata": {},
   "outputs": [
    {
     "data": {
      "text/plain": [
       "6    7\n",
       "7    6\n",
       "5    6\n",
       "8    3\n",
       "4    3\n",
       "9    1\n",
       "3    1\n",
       "dtype: int64"
      ]
     },
     "execution_count": 9,
     "metadata": {},
     "output_type": "execute_result"
    }
   ],
   "source": [
    "import pandas as pd\n",
    "pd.Series(possible_rolls).value_counts()"
   ]
  },
  {
   "cell_type": "code",
   "execution_count": 74,
   "id": "e1996760",
   "metadata": {},
   "outputs": [],
   "source": [
    "possible_roll_counts = [\n",
    "    (3, 1),\n",
    "    (4, 3),\n",
    "    (5, 6),\n",
    "    (6, 7),\n",
    "    (7, 6),\n",
    "    (8, 3),\n",
    "    (9, 1),\n",
    "]"
   ]
  },
  {
   "cell_type": "code",
   "execution_count": 116,
   "id": "d2148477",
   "metadata": {},
   "outputs": [],
   "source": [
    "def get_outcome_counts(pos, winner_score=21):\n",
    "    q = [(pos, 0, 0, 1)]\n",
    "\n",
    "    results = defaultdict(int)\n",
    "    while q:\n",
    "        pos, score, steps, weight = q.pop()\n",
    "        new_steps = steps + 1\n",
    "        if score >= winner_score:\n",
    "            results[steps] += weight\n",
    "#             print('complete @', 'pos', pos, 'score', score, 'steps', steps, 'weight', weight)\n",
    "            continue\n",
    "        for roll, roll_count in possible_roll_counts:\n",
    "            new_pos = (pos + roll) % 10\n",
    "            new_score = (new_pos + 1) + score\n",
    "            new_weight = weight * roll_count\n",
    "#             print('tick', 'steps', new_steps, 'score', new_score, 'weight', new_weight)\n",
    "            q.append((new_pos, new_score, new_steps, new_weight))\n",
    "    return results"
   ]
  },
  {
   "cell_type": "code",
   "execution_count": 117,
   "id": "2b412c6a",
   "metadata": {},
   "outputs": [
    {
     "data": {
      "text/plain": [
       "defaultdict(int, {1: 27})"
      ]
     },
     "execution_count": 117,
     "metadata": {},
     "output_type": "execute_result"
    }
   ],
   "source": [
    "get_outcome_counts(0, 4)"
   ]
  },
  {
   "cell_type": "code",
   "execution_count": 118,
   "id": "aa4905db",
   "metadata": {},
   "outputs": [
    {
     "data": {
      "text/plain": [
       "defaultdict(int, {1: 26, 2: 27})"
      ]
     },
     "execution_count": 118,
     "metadata": {},
     "output_type": "execute_result"
    }
   ],
   "source": [
    "get_outcome_counts(0, 5)"
   ]
  },
  {
   "cell_type": "code",
   "execution_count": 138,
   "id": "72aaa101",
   "metadata": {
    "scrolled": true
   },
   "outputs": [
    {
     "data": {
      "text/html": [
       "<div>\n",
       "<style scoped>\n",
       "    .dataframe tbody tr th:only-of-type {\n",
       "        vertical-align: middle;\n",
       "    }\n",
       "\n",
       "    .dataframe tbody tr th {\n",
       "        vertical-align: top;\n",
       "    }\n",
       "\n",
       "    .dataframe thead th {\n",
       "        text-align: right;\n",
       "    }\n",
       "</style>\n",
       "<table border=\"1\" class=\"dataframe\">\n",
       "  <thead>\n",
       "    <tr style=\"text-align: right;\">\n",
       "      <th></th>\n",
       "      <th>0</th>\n",
       "      <th>1</th>\n",
       "    </tr>\n",
       "  </thead>\n",
       "  <tbody>\n",
       "    <tr>\n",
       "      <th>3</th>\n",
       "      <td>4608</td>\n",
       "      <td>1730</td>\n",
       "    </tr>\n",
       "    <tr>\n",
       "      <th>4</th>\n",
       "      <td>249542</td>\n",
       "      <td>230681</td>\n",
       "    </tr>\n",
       "    <tr>\n",
       "      <th>5</th>\n",
       "      <td>3219454</td>\n",
       "      <td>5448341</td>\n",
       "    </tr>\n",
       "    <tr>\n",
       "      <th>6</th>\n",
       "      <td>24905476</td>\n",
       "      <td>34576828</td>\n",
       "    </tr>\n",
       "    <tr>\n",
       "      <th>7</th>\n",
       "      <td>77993473</td>\n",
       "      <td>92929443</td>\n",
       "    </tr>\n",
       "    <tr>\n",
       "      <th>8</th>\n",
       "      <td>62172638</td>\n",
       "      <td>57067858</td>\n",
       "    </tr>\n",
       "    <tr>\n",
       "      <th>9</th>\n",
       "      <td>8678745</td>\n",
       "      <td>5931126</td>\n",
       "    </tr>\n",
       "    <tr>\n",
       "      <th>10</th>\n",
       "      <td>53217</td>\n",
       "      <td>32562</td>\n",
       "    </tr>\n",
       "  </tbody>\n",
       "</table>\n",
       "</div>"
      ],
      "text/plain": [
       "           0         1\n",
       "3       4608      1730\n",
       "4     249542    230681\n",
       "5    3219454   5448341\n",
       "6   24905476  34576828\n",
       "7   77993473  92929443\n",
       "8   62172638  57067858\n",
       "9    8678745   5931126\n",
       "10     53217     32562"
      ]
     },
     "execution_count": 138,
     "metadata": {},
     "output_type": "execute_result"
    }
   ],
   "source": [
    "p1_results = get_outcome_counts(3)\n",
    "p2_results = get_outcome_counts(7)\n",
    "df = pd.DataFrame([dict(p1_results), dict(p2_results)])[range(3, 11)].T\n",
    "df"
   ]
  },
  {
   "cell_type": "code",
   "execution_count": 141,
   "id": "b655429a",
   "metadata": {},
   "outputs": [],
   "source": [
    "df['wins0'] = df.index.map(lambda i: df.loc[i, 0])\n",
    "df['wins1'] = df.index.map(lambda i: df.loc[i, 1])\n",
    "\n",
    "df['loses0'] = df.index.map(lambda i: df.loc[i+1:, 0].sum())\n",
    "df['loses1'] = df.index.map(lambda i: df.loc[i+1:, 1].sum())"
   ]
  },
  {
   "cell_type": "code",
   "execution_count": 150,
   "id": "e815eceb",
   "metadata": {},
   "outputs": [
    {
     "data": {
      "text/plain": [
       "(1110762302, 1110762302)"
      ]
     },
     "execution_count": 150,
     "metadata": {},
     "output_type": "execute_result"
    }
   ],
   "source": [
    "p1_wins = 0\n",
    "p2_wins = 0\n",
    "for p1_steps in range(1, 10):\n",
    "    p1_ways = df.loc[p1_steps, 0] if p1_steps in df.index else 0\n",
    "    for p2_steps in range(1, 10):\n",
    "        p2_ways = df.loc[p2_steps, 0] if p2_steps in df.index else 0\n",
    "        if p1_steps > p2_steps:\n",
    "            p1_wins += p1_ways\n",
    "        elif p2_steps > p1_steps:\n",
    "            p2_wins += p2_ways\n",
    "p1_wins, p2_wins"
   ]
  },
  {
   "cell_type": "code",
   "execution_count": 113,
   "id": "146f09b9",
   "metadata": {},
   "outputs": [
    {
     "data": {
      "text/plain": [
       "(12854344522627778, 18138371131832112)"
      ]
     },
     "execution_count": 113,
     "metadata": {},
     "output_type": "execute_result"
    }
   ],
   "source": [
    "p1_wins = 0\n",
    "p2_wins = 0\n",
    "for step in p1_results.keys() | p2_results.keys():\n",
    "    universes_where_p1_won = sum([p1_results[k] for k in p1_results if k <= step])\n",
    "    universes_where_p1_lost = sum([p1_results[k] for k in p1_results if k > step])\n",
    "    \n",
    "    universes_where_p2_won = sum([p2_results[k] for k in p2_results if k <= step])\n",
    "    universes_where_p2_lost = sum([p2_results[k] for k in p2_results if k > step])\n",
    "    p1_wins += universes_where_p1_won * universes_where_p2_lost\n",
    "    p2_wins += universes_where_p2_won * universes_where_p1_lost\n",
    "p1_wins, p2_wins"
   ]
  }
 ],
 "metadata": {
  "kernelspec": {
   "display_name": "Python 3",
   "language": "python",
   "name": "python3"
  },
  "language_info": {
   "codemirror_mode": {
    "name": "ipython",
    "version": 3
   },
   "file_extension": ".py",
   "mimetype": "text/x-python",
   "name": "python",
   "nbconvert_exporter": "python",
   "pygments_lexer": "ipython3",
   "version": "3.6.13"
  }
 },
 "nbformat": 4,
 "nbformat_minor": 5
}
