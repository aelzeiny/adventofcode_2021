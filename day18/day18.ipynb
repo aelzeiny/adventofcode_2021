{
 "cells": [
  {
   "cell_type": "code",
   "execution_count": 1,
   "id": "054737e4",
   "metadata": {},
   "outputs": [],
   "source": [
    "from typing import Union, Optional\n",
    "import math\n",
    "\n",
    "\n",
    "class SnailValue:\n",
    "    def __init__(self, value: int, parent=None):\n",
    "        self.value = value\n",
    "        self.parent = parent\n",
    "        \n",
    "    def split(self):\n",
    "        assert self.parent is not None\n",
    "#         print('split', self)\n",
    "        replacement_pair = SnailMathPair(parent=self.parent)\n",
    "        replacement_pair.left = self.__class__(math.floor(self.value / 2), parent=replacement_pair)\n",
    "        replacement_pair.right = self.__class__(math.ceil(self.value / 2), parent=replacement_pair)\n",
    "        if self.parent.left == self:\n",
    "            self.parent.left = replacement_pair\n",
    "        else:\n",
    "            self.parent.right = replacement_pair\n",
    "            \n",
    "    def magnitude(self):\n",
    "        return self.value\n",
    "    \n",
    "    def copy(self, parent=None):\n",
    "        return self.__class__(self.value, parent=parent)\n",
    "        \n",
    "    def __repr__(self):\n",
    "        return str(self.value)\n",
    "\n",
    "\n",
    "class SnailMathPair:\n",
    "    def __init__(self, \n",
    "                 left = None, \n",
    "                 right = None, \n",
    "                 parent = None):\n",
    "        self.parent = parent\n",
    "        self.left = left\n",
    "        self.right = right\n",
    "        \n",
    "    @classmethod\n",
    "    def parse(cls, expr: str, parent = None):\n",
    "        if expr.startswith('['):\n",
    "            expr = expr[1:len(expr)-1]\n",
    "        bracket_count = 0\n",
    "        comma_idx = None\n",
    "        for i, c in enumerate(expr):\n",
    "            if c == ',' and bracket_count == 0:\n",
    "                comma_idx = i\n",
    "                break\n",
    "            elif c == '[':\n",
    "                bracket_count += 1\n",
    "            elif c == ']':\n",
    "                bracket_count -= 1\n",
    "        \n",
    "        left, right = expr[:comma_idx], expr[comma_idx+1:]\n",
    "        \n",
    "        me = cls(parent=parent)\n",
    "        me.left = cls.parse(left, me) if left.startswith('[') else SnailValue(int(left), me)\n",
    "        me.right = cls.parse(right, me) if right.startswith('[') else SnailValue(int(right), me)\n",
    "        return me\n",
    "    \n",
    "    def _find_left(self):\n",
    "        parent = self.parent\n",
    "        child = self\n",
    "        while parent is not None:\n",
    "            if parent.left != child:\n",
    "                node = parent.left\n",
    "                while not isinstance(node, SnailValue):\n",
    "                    node = node.right\n",
    "                if isinstance(node, SnailValue):\n",
    "                    return node\n",
    "                else:\n",
    "                    return None\n",
    "            child = parent\n",
    "            parent = parent.parent\n",
    "        return None\n",
    "    \n",
    "    def _find_right(self):\n",
    "        parent = self.parent\n",
    "        child = self\n",
    "        while parent is not None:\n",
    "            if parent.right != child:\n",
    "                node = parent.right\n",
    "                while not isinstance(node, SnailValue):\n",
    "                    node = node.left\n",
    "                if isinstance(node, SnailValue):\n",
    "                    return node\n",
    "                else:\n",
    "                    return None\n",
    "            child = parent\n",
    "            parent = parent.parent\n",
    "        return None\n",
    "    \n",
    "    def explode(self):\n",
    "        assert self.parent is not None and isinstance(self.left, SnailValue) and isinstance(self.right, SnailValue)\n",
    "#         print('explode', self)\n",
    "        # add yourself to left & right nodes\n",
    "        left = self._find_left()\n",
    "        right = self._find_right()\n",
    "        if left is not None:\n",
    "            left.value = self.left.value + left.value\n",
    "        if right is not None:\n",
    "            right.value = self.right.value + right.value\n",
    "\n",
    "        # remove yourself\n",
    "        replacement_val = SnailValue(0, self.parent)\n",
    "        if self.parent.left == self:\n",
    "            self.parent.left = replacement_val\n",
    "        else:\n",
    "            self.parent.right = replacement_val\n",
    "    \n",
    "    def in_order_trav(self, depth = 1):\n",
    "        if isinstance(self.left, self.__class__):\n",
    "            yield from self.left.in_order_trav(depth + 1)\n",
    "        else:\n",
    "            yield self.left, depth\n",
    "        yield self, depth\n",
    "        if isinstance(self.right, self.__class__):\n",
    "            yield from self.right.in_order_trav(depth + 1)\n",
    "        else:\n",
    "            yield self.right, depth\n",
    "    \n",
    "    def is_simple_pair(self):\n",
    "        return isinstance(self.left, SnailValue) and isinstance(self.right, SnailValue)\n",
    "    \n",
    "    def reduce_one(self, depth: int = 1):\n",
    "        action = False\n",
    "        caused_explosion = True\n",
    "        # Explosions cause chain-reactions\n",
    "        while caused_explosion:\n",
    "#             print('>>>', self)\n",
    "            for node, depth in self.in_order_trav():\n",
    "                if isinstance(node, self.__class__) and depth > 4 and node.is_simple_pair():\n",
    "                    node.explode()\n",
    "                    caused_explosion = action = True\n",
    "                    break\n",
    "            else:\n",
    "                caused_explosion = False\n",
    "        \n",
    "        if action:\n",
    "            return True\n",
    "        \n",
    "        # node splits do not\n",
    "        for node, depth in self.in_order_trav():\n",
    "            if isinstance(node, SnailValue) and node.value >= 10:\n",
    "                node.split()\n",
    "                return True\n",
    "    \n",
    "    def reduce(self):\n",
    "        while self.reduce_one():\n",
    "            pass\n",
    "#             print('>>', self)\n",
    "        \n",
    "    def __add__(self, other):\n",
    "        new_pair = self.__class__()\n",
    "        self.parent = new_pair\n",
    "        other.parent = new_pair\n",
    "        new_pair.left = self\n",
    "        new_pair.right = other\n",
    "        return new_pair\n",
    "    \n",
    "    def copy(self, parent=None):\n",
    "        new_me = self.__class__(parent=parent)\n",
    "        new_me.left = self.left.copy(new_me)\n",
    "        new_me.right = self.right.copy(new_me)\n",
    "        return new_me\n",
    "#         return self.__class__.parse(str(self))\n",
    "    \n",
    "    def magnitude(self):\n",
    "        return 3 * self.left.magnitude() + 2 * self.right.magnitude()\n",
    "\n",
    "    def __repr__(self):\n",
    "        return f'[{self.left},{self.right}]'"
   ]
  },
  {
   "cell_type": "code",
   "execution_count": 2,
   "id": "753e2061",
   "metadata": {},
   "outputs": [
    {
     "data": {
      "text/plain": [
       "[[6,[5,[4,[3,2]]]],1]"
      ]
     },
     "execution_count": 2,
     "metadata": {},
     "output_type": "execute_result"
    }
   ],
   "source": [
    "expr = SnailMathPair.parse('[[6,[5,[4,[3,2]]]],1]')\n",
    "expr"
   ]
  },
  {
   "cell_type": "code",
   "execution_count": 3,
   "id": "51b9c27c",
   "metadata": {},
   "outputs": [
    {
     "name": "stdout",
     "output_type": "stream",
     "text": [
      "before [[[[[9,8],1],2],3],4]\n",
      "left [9,8]\n",
      "after [[[[0,9],2],3],4]\n"
     ]
    }
   ],
   "source": [
    "expr = SnailMathPair.parse('[[[[[9,8],1],2],3],4]')\n",
    "print('before', expr)\n",
    "print('left', expr.left.left.left.left)\n",
    "expr.left.left.left.left.explode()\n",
    "print('after', expr)"
   ]
  },
  {
   "cell_type": "code",
   "execution_count": 4,
   "id": "2ba70482",
   "metadata": {},
   "outputs": [
    {
     "data": {
      "text/plain": [
       "[[[[0,9],2],3],4]"
      ]
     },
     "execution_count": 4,
     "metadata": {},
     "output_type": "execute_result"
    }
   ],
   "source": [
    "expr = SnailMathPair.parse('[[[[[9,8],1],2],3],4]')\n",
    "expr.reduce()\n",
    "expr"
   ]
  },
  {
   "cell_type": "code",
   "execution_count": 5,
   "id": "1d56da1f",
   "metadata": {},
   "outputs": [
    {
     "name": "stdout",
     "output_type": "stream",
     "text": [
      "after addition:  [[[[[4,3],4],4],[7,[[8,4],9]]],[1,1]]\n"
     ]
    },
    {
     "data": {
      "text/plain": [
       "[[[[0,7],4],[[7,8],[6,0]]],[8,1]]"
      ]
     },
     "execution_count": 5,
     "metadata": {},
     "output_type": "execute_result"
    }
   ],
   "source": [
    "expr = SnailMathPair.parse('[[[[4,3],4],4],[7,[[8,4],9]]]') + SnailMathPair.parse('[1,1]')\n",
    "print('after addition: ', expr)\n",
    "expr.reduce()\n",
    "expr"
   ]
  },
  {
   "cell_type": "markdown",
   "id": "246bb5f7",
   "metadata": {},
   "source": [
    "### Explosion examples"
   ]
  },
  {
   "cell_type": "code",
   "execution_count": 6,
   "id": "27c3d975",
   "metadata": {},
   "outputs": [
    {
     "data": {
      "text/plain": [
       "[[[[0,9],2],3],4]"
      ]
     },
     "execution_count": 6,
     "metadata": {},
     "output_type": "execute_result"
    }
   ],
   "source": [
    "# [[[[[9,8],1],2],3],4] becomes [[[[0,9],2],3],4]\n",
    "e = SnailMathPair.parse('[[[[[9,8],1],2],3],4]')\n",
    "e.reduce()\n",
    "e"
   ]
  },
  {
   "cell_type": "code",
   "execution_count": 7,
   "id": "9e572c57",
   "metadata": {},
   "outputs": [
    {
     "data": {
      "text/plain": [
       "[7,[6,[5,[7,0]]]]"
      ]
     },
     "execution_count": 7,
     "metadata": {},
     "output_type": "execute_result"
    }
   ],
   "source": [
    "# [7,[6,[5,[4,[3,2]]]]] becomes [7,[6,[5,[7,0]]]]\n",
    "e = SnailMathPair.parse('[7,[6,[5,[4,[3,2]]]]]')\n",
    "e.reduce()\n",
    "e"
   ]
  },
  {
   "cell_type": "code",
   "execution_count": 8,
   "id": "5030695d",
   "metadata": {},
   "outputs": [
    {
     "data": {
      "text/plain": [
       "[[6,[5,[7,0]]],3]"
      ]
     },
     "execution_count": 8,
     "metadata": {},
     "output_type": "execute_result"
    }
   ],
   "source": [
    "# [[6,[5,[4,[3,2]]]],1] becomes [[6,[5,[7,0]]],3].\n",
    "e = SnailMathPair.parse('[[6,[5,[4,[3,2]]]],1]')\n",
    "e.reduce()\n",
    "e"
   ]
  },
  {
   "cell_type": "code",
   "execution_count": 9,
   "id": "758540ee",
   "metadata": {},
   "outputs": [
    {
     "data": {
      "text/plain": [
       "[[3,[2,[8,0]]],[9,[5,[7,0]]]]"
      ]
     },
     "execution_count": 9,
     "metadata": {},
     "output_type": "execute_result"
    }
   ],
   "source": [
    "# [[3,[2,[1,[7,3]]]],[6,[5,[4,[3,2]]]]] becomes [[3,[2,[8,0]]],[9,[5,[4,[3,2]]]]] (the pair [3,2] is unaffected because the pair [7,3] is further to the left; [3,2] would explode on the next action).\n",
    "e = SnailMathPair.parse('[[3,[2,[1,[7,3]]]],[6,[5,[4,[3,2]]]]]')\n",
    "e.reduce_one()\n",
    "e"
   ]
  },
  {
   "cell_type": "code",
   "execution_count": 10,
   "id": "3f41f7a2",
   "metadata": {},
   "outputs": [
    {
     "data": {
      "text/plain": [
       "[[3,[2,[8,0]]],[9,[5,[7,0]]]]"
      ]
     },
     "execution_count": 10,
     "metadata": {},
     "output_type": "execute_result"
    }
   ],
   "source": [
    "# [[3,[2,[8,0]]],[9,[5,[4,[3,2]]]]] becomes [[3,[2,[8,0]]],[9,[5,[7,0]]]].\n",
    "e = SnailMathPair.parse('[[3,[2,[8,0]]],[9,[5,[4,[3,2]]]]]')\n",
    "e.reduce()\n",
    "e"
   ]
  },
  {
   "cell_type": "markdown",
   "id": "63571f35",
   "metadata": {},
   "source": [
    "### Example"
   ]
  },
  {
   "cell_type": "code",
   "execution_count": 11,
   "id": "29e34bef",
   "metadata": {},
   "outputs": [],
   "source": [
    "def add_parsed_list(some_str):\n",
    "    expressions = [SnailMathPair.parse(expr) for expr in some_str.split('\\n') if expr]\n",
    "    final_expr = expressions[0]\n",
    "    print(expressions[0] + expressions[1])\n",
    "    for expr in expressions[1:]:\n",
    "        final_expr = final_expr + expr\n",
    "        final_expr.reduce()\n",
    "        print('+', final_expr)\n",
    "    return final_expr"
   ]
  },
  {
   "cell_type": "code",
   "execution_count": 12,
   "id": "04541382",
   "metadata": {},
   "outputs": [
    {
     "name": "stdout",
     "output_type": "stream",
     "text": [
      "[[1,1],[2,2]]\n",
      "+ [[1,1],[2,2]]\n",
      "+ [[[1,1],[2,2]],[3,3]]\n",
      "+ [[[[1,1],[2,2]],[3,3]],[4,4]]\n"
     ]
    },
    {
     "data": {
      "text/plain": [
       "[[[[1,1],[2,2]],[3,3]],[4,4]]"
      ]
     },
     "execution_count": 12,
     "metadata": {},
     "output_type": "execute_result"
    }
   ],
   "source": [
    "add_parsed_list('''\n",
    "[1,1]\n",
    "[2,2]\n",
    "[3,3]\n",
    "[4,4]\n",
    "''')"
   ]
  },
  {
   "cell_type": "code",
   "execution_count": 13,
   "id": "7f2b4483",
   "metadata": {},
   "outputs": [
    {
     "name": "stdout",
     "output_type": "stream",
     "text": [
      "[[1,1],[2,2]]\n",
      "+ [[1,1],[2,2]]\n",
      "+ [[[1,1],[2,2]],[3,3]]\n",
      "+ [[[[1,1],[2,2]],[3,3]],[4,4]]\n",
      "+ [[[[3,0],[5,3]],[4,4]],[5,5]]\n"
     ]
    },
    {
     "data": {
      "text/plain": [
       "[[[[3,0],[5,3]],[4,4]],[5,5]]"
      ]
     },
     "execution_count": 13,
     "metadata": {},
     "output_type": "execute_result"
    }
   ],
   "source": [
    "add_parsed_list('''\n",
    "[1,1]\n",
    "[2,2]\n",
    "[3,3]\n",
    "[4,4]\n",
    "[5,5]\n",
    "''')"
   ]
  },
  {
   "cell_type": "code",
   "execution_count": 14,
   "id": "1ae694bd",
   "metadata": {},
   "outputs": [
    {
     "name": "stdout",
     "output_type": "stream",
     "text": [
      "[[1,1],[2,2]]\n",
      "+ [[1,1],[2,2]]\n",
      "+ [[[1,1],[2,2]],[3,3]]\n",
      "+ [[[[1,1],[2,2]],[3,3]],[4,4]]\n",
      "+ [[[[3,0],[5,3]],[4,4]],[5,5]]\n",
      "+ [[[[5,0],[7,4]],[5,5]],[6,6]]\n"
     ]
    },
    {
     "data": {
      "text/plain": [
       "[[[[5,0],[7,4]],[5,5]],[6,6]]"
      ]
     },
     "execution_count": 14,
     "metadata": {},
     "output_type": "execute_result"
    }
   ],
   "source": [
    "add_parsed_list('''\n",
    "[1,1]\n",
    "[2,2]\n",
    "[3,3]\n",
    "[4,4]\n",
    "[5,5]\n",
    "[6,6]\n",
    "''')"
   ]
  },
  {
   "cell_type": "code",
   "execution_count": 15,
   "id": "c27e56b1",
   "metadata": {
    "scrolled": true
   },
   "outputs": [
    {
     "name": "stdout",
     "output_type": "stream",
     "text": [
      "[[[[0,[4,5]],[0,0]],[[[4,5],[2,6]],[9,5]]],[7,[[[3,7],[4,3]],[[6,3],[8,8]]]]]\n",
      "+ [[[[4,0],[5,4]],[[7,7],[6,0]]],[[8,[7,7]],[[7,9],[5,0]]]]\n"
     ]
    },
    {
     "data": {
      "text/plain": [
       "[[[[4,0],[5,4]],[[7,7],[6,0]]],[[8,[7,7]],[[7,9],[5,0]]]]"
      ]
     },
     "execution_count": 15,
     "metadata": {},
     "output_type": "execute_result"
    }
   ],
   "source": [
    "add_parsed_list('''\n",
    "[[[0,[4,5]],[0,0]],[[[4,5],[2,6]],[9,5]]]\n",
    "[7,[[[3,7],[4,3]],[[6,3],[8,8]]]]\n",
    "''')"
   ]
  },
  {
   "cell_type": "code",
   "execution_count": 16,
   "id": "6bcc50f4",
   "metadata": {},
   "outputs": [
    {
     "name": "stdout",
     "output_type": "stream",
     "text": [
      "[[[[0,[4,5]],[0,0]],[[[4,5],[2,6]],[9,5]]],[7,[[[3,7],[4,3]],[[6,3],[8,8]]]]]\n",
      "+ [[[[4,0],[5,4]],[[7,7],[6,0]]],[[8,[7,7]],[[7,9],[5,0]]]]\n",
      "+ [[[[6,7],[6,7]],[[7,7],[0,7]]],[[[8,7],[7,7]],[[8,8],[8,0]]]]\n",
      "+ [[[[7,0],[7,7]],[[7,7],[7,8]]],[[[7,7],[8,8]],[[7,7],[8,7]]]]\n",
      "+ [[[[7,7],[7,8]],[[9,5],[8,7]]],[[[6,8],[0,8]],[[9,9],[9,0]]]]\n",
      "+ [[[[6,6],[6,6]],[[6,0],[6,7]]],[[[7,7],[8,9]],[8,[8,1]]]]\n",
      "+ [[[[6,6],[7,7]],[[0,7],[7,7]]],[[[5,5],[5,6]],9]]\n",
      "+ [[[[7,8],[6,7]],[[6,8],[0,8]]],[[[7,7],[5,0]],[[5,5],[5,6]]]]\n",
      "+ [[[[7,7],[7,7]],[[8,7],[8,7]]],[[[7,0],[7,7]],9]]\n",
      "+ [[[[8,7],[7,7]],[[8,6],[7,7]]],[[[0,7],[6,6]],[8,7]]]\n"
     ]
    },
    {
     "data": {
      "text/plain": [
       "[[[[8,7],[7,7]],[[8,6],[7,7]]],[[[0,7],[6,6]],[8,7]]]"
      ]
     },
     "execution_count": 16,
     "metadata": {},
     "output_type": "execute_result"
    }
   ],
   "source": [
    "add_parsed_list('''\n",
    "[[[0,[4,5]],[0,0]],[[[4,5],[2,6]],[9,5]]]\n",
    "[7,[[[3,7],[4,3]],[[6,3],[8,8]]]]\n",
    "[[2,[[0,8],[3,4]]],[[[6,7],1],[7,[1,6]]]]\n",
    "[[[[2,4],7],[6,[0,5]]],[[[6,8],[2,8]],[[2,1],[4,5]]]]\n",
    "[7,[5,[[3,8],[1,4]]]]\n",
    "[[2,[2,2]],[8,[8,1]]]\n",
    "[2,9]\n",
    "[1,[[[9,3],9],[[9,0],[0,7]]]]\n",
    "[[[5,[7,4]],7],1]\n",
    "[[[[4,2],2],6],[8,7]]\n",
    "''')"
   ]
  },
  {
   "cell_type": "markdown",
   "id": "e3064c77",
   "metadata": {},
   "source": [
    "### Part 1"
   ]
  },
  {
   "cell_type": "code",
   "execution_count": 17,
   "id": "696ba391",
   "metadata": {},
   "outputs": [
    {
     "name": "stdout",
     "output_type": "stream",
     "text": [
      "[[[[6,[8,3]],[2,0]],[[[9,5],[9,1]],3]],[[[9,[2,2]],[5,4]],[[[2,2],[9,6]],[7,7]]]]\n",
      "+ [[[[6,0],[7,7]],[[8,7],9]],[[[6,6],[6,0]],[[6,6],[6,7]]]]\n",
      "+ [[[[6,6],[8,7]],[[8,8],[8,0]]],[[[8,7],8],[[2,5],[0,5]]]]\n",
      "+ [[[[6,7],[7,8]],[[7,0],[8,7]]],[[[7,8],[5,6]],[[0,5],[3,1]]]]\n",
      "+ [[[[6,6],[6,0]],[[7,7],[8,8]]],[[[6,7],4],1]]\n",
      "+ [[[[7,7],[8,0]],[[8,9],[8,9]]],[[[5,0],[7,7]],[[9,1],9]]]\n",
      "+ [[[[7,7],[7,7]],[[0,7],[7,8]]],[[[8,8],[8,8]],[[8,8],[7,7]]]]\n",
      "+ [[[[7,6],[7,7]],[[7,7],[0,7]]],[[[7,7],[8,8]],[[8,9],[9,8]]]]\n",
      "+ [[[[6,6],[6,6]],[[7,7],[7,8]]],[[[7,0],[8,7]],[[7,7],[7,7]]]]\n",
      "+ [[[[6,7],[7,7]],[[7,7],[8,8]]],[[[8,8],[8,8]],[[8,0],[8,8]]]]\n",
      "+ [[[[6,6],[0,7]],[[7,7],[7,7]]],[[[7,9],[8,7]],[5,[0,9]]]]\n",
      "+ [[[[6,6],[6,6]],[[6,6],[7,7]]],[[[7,0],[7,7]],[[7,8],[8,7]]]]\n",
      "+ [[[[7,7],[7,7]],[[7,7],[7,0]]],[[[8,9],[5,6]],[[8,7],[0,8]]]]\n",
      "+ [[[[7,7],[7,8]],[[8,7],[7,7]]],[[[0,8],[8,8]],[[8,8],[8,8]]]]\n",
      "+ [[[[6,6],[7,7]],[[7,7],[8,8]]],[[[8,8],[7,7]],[[8,0],[9,9]]]]\n",
      "+ [[[[7,7],[7,0]],[[7,7],[7,7]]],[[[7,7],[7,7]],8]]\n",
      "+ [[[[7,9],[7,8]],[[7,8],[7,7]]],[[[7,7],[7,8]],[[7,0],[7,7]]]]\n",
      "+ [[[[6,6],[6,6]],[[6,7],[0,7]]],[[[7,7],[7,7]],[[7,7],[8,7]]]]\n",
      "+ [[[[7,7],[7,7]],[[7,7],[7,0]]],[[[8,8],[7,7]],[8,5]]]\n",
      "+ [[[[7,8],[7,8]],[[7,8],[8,0]]],[[[8,9],[9,9]],4]]\n",
      "+ [[[[6,7],[7,7]],[[0,8],[8,9]]],[[[7,8],4],[[1,3],[7,0]]]]\n",
      "+ [[[[7,0],[7,7]],[[7,7],[7,7]]],[[7,7],9]]\n",
      "+ [[[[8,7],[8,8]],[[7,8],[0,9]]],[[[9,9],[6,6]],[[0,7],7]]]\n",
      "+ [[[[6,7],[7,7]],[[8,8],[7,7]]],[[[7,0],[8,8]],[[8,4],[9,9]]]]\n",
      "+ [[[[7,7],[7,7]],[[7,7],[7,7]]],[[[7,7],[7,8]],[[0,8],[8,9]]]]\n",
      "+ [[[[7,6],[7,7]],[[0,7],[7,7]]],[[[7,7],[7,7]],[[7,8],[8,8]]]]\n",
      "+ [[[[6,6],[6,6]],[[6,0],[7,7]]],[[[7,7],[7,7]],[[7,7],[7,7]]]]\n",
      "+ [[[[6,7],[7,7]],[[7,7],[7,7]]],[[[7,7],[7,7]],[[0,8],[8,7]]]]\n",
      "+ [[[[6,7],[7,8]],[[8,7],[7,7]]],[[[6,6],[0,7]],[[7,7],[6,7]]]]\n",
      "+ [[[[7,7],[7,7]],[[7,8],[0,8]]],[[[8,9],[9,8]],[[7,7],1]]]\n",
      "+ [[[[6,6],[0,6]],[[7,7],[7,7]]],[[[7,7],[7,7]],[[7,7],[7,9]]]]\n",
      "+ [[[[6,7],[7,8]],[[8,7],[7,0]]],[[[8,8],[8,8]],[[7,7],[6,6]]]]\n",
      "+ [[[[6,6],[6,7]],[[0,7],[7,7]]],[[[7,7],[7,7]],[[5,6],[6,6]]]]\n",
      "+ [[[[6,6],[6,7]],[[7,0],[7,7]]],[[[7,7],[7,7]],[[8,8],[8,8]]]]\n",
      "+ [[[[6,6],[6,7]],[[7,7],[7,8]]],[[[9,5],[8,8]],[[0,9],[8,7]]]]\n",
      "+ [[[[6,6],[7,7]],[[7,7],[7,7]]],[[[9,7],[7,9]],[[8,0],[8,8]]]]\n",
      "+ [[[[7,7],[7,7]],[[7,0],[7,7]]],[[[7,8],[7,7]],[[5,5],3]]]\n",
      "+ [[[[7,7],[0,7]],[[7,8],[7,7]]],[[[7,7],[7,7]],[8,8]]]\n",
      "+ [[[[6,7],[7,7]],[[8,8],[8,0]]],[[[8,8],[8,7]],[[5,9],[0,7]]]]\n",
      "+ [[[[7,6],[7,7]],[[7,7],[7,7]]],[[[7,7],[7,7]],[[0,7],[8,7]]]]\n",
      "+ [[[[7,7],[7,7]],[[7,7],[7,0]]],[[[7,7],[8,8]],[[9,9],[9,9]]]]\n",
      "+ [[[[7,7],[7,7]],[[7,7],[8,8]]],[[[8,8],[8,8]],[[7,8],[0,8]]]]\n",
      "+ [[[[6,6],[6,7]],[[7,7],[0,7]]],[[[7,7],[7,8]],[[8,8],[8,9]]]]\n",
      "+ [[[[6,7],[7,7]],[[7,7],[7,7]]],[[[7,7],[0,7]],[[7,7],[8,8]]]]\n",
      "+ [[[[6,6],[7,7]],[[7,7],[7,7]]],[[[0,7],[7,8]],[[8,8],[9,9]]]]\n",
      "+ [[[[7,7],[6,7]],[[7,7],[7,7]]],[[[0,7],[7,7]],[[8,8],[8,9]]]]\n",
      "+ [[[[7,7],[7,7]],[[7,0],[7,7]]],[[[7,7],[7,7]],[[7,8],[8,8]]]]\n",
      "+ [[[[6,6],[7,7]],[[7,7],[0,7]]],[[[7,7],[8,8]],[[8,8],[8,9]]]]\n",
      "+ [[[[6,6],[7,7]],[[8,8],[8,8]]],[[[8,7],[6,6]],[[6,0],[6,6]]]]\n",
      "+ [[[[6,7],[7,8]],[[7,7],[7,0]]],[[[7,7],9],[[5,9],1]]]\n",
      "+ [[[[7,7],[7,7]],[[7,7],[0,8]]],[[[7,7],[7,7]],[[6,4],7]]]\n",
      "+ [[[[7,7],[8,8]],[[8,8],[8,7]]],[[[0,7],[7,5]],[6,6]]]\n",
      "+ [[[[6,0],[7,7]],[[7,8],[8,7]]],[[[8,8],[7,8]],[[7,6],[7,6]]]]\n",
      "+ [[[[6,6],[6,7]],[[7,7],[7,7]]],[[[7,7],[7,0]],[[7,8],[8,7]]]]\n",
      "+ [[[[7,7],[7,7]],[[7,7],[0,7]]],[[[7,7],[7,7]],[[7,8],[8,8]]]]\n",
      "+ [[[[6,6],[6,7]],[[7,0],[7,7]]],[[[7,7],[8,8]],[[8,8],[5,5]]]]\n",
      "+ [[[[6,6],[7,7]],[[0,7],[7,7]]],[[[6,7],[6,7]],[0,[1,3]]]]\n",
      "+ [[[[7,8],[7,8]],[[8,0],[9,9]]],[[[8,5],[6,7]],[[7,0],[7,8]]]]\n",
      "+ [[[[7,7],[7,7]],[[7,7],[7,8]]],[[[7,7],[8,0]],[[8,9],[9,9]]]]\n",
      "+ [[[[0,7],[7,7]],[[8,8],[6,8]]],[[[7,7],[8,9]],[0,[6,2]]]]\n",
      "+ [[[[6,7],[7,7]],[[8,8],[8,7]]],[[[8,8],[9,8]],[[7,0],[8,8]]]]\n",
      "+ [[[[7,7],[7,7]],[[7,7],[7,8]]],[[[8,0],[8,8]],[[8,8],[8,7]]]]\n",
      "+ [[[[6,6],[7,0]],[[7,7],[7,7]]],[[[8,8],[8,8]],[[8,9],[9,9]]]]\n",
      "+ [[[[7,7],[7,7]],[[7,0],[7,7]]],[[[7,7],[7,7]],[[7,7],[8,9]]]]\n",
      "+ [[[[6,6],[6,6]],[[6,7],[0,7]]],[[[7,7],[8,7]],[[5,5],[5,6]]]]\n",
      "+ [[[[7,7],[7,7]],[[7,7],[7,7]]],[[[7,8],[8,9]],[[7,8],[0,9]]]]\n",
      "+ [[[[6,6],[7,7]],[[7,7],[7,7]]],[[[0,7],[7,7]],[[8,8],[8,7]]]]\n",
      "+ [[[[7,7],[7,7]],[[7,8],[8,8]]],[[[8,8],[0,8]],[[8,9],[8,8]]]]\n",
      "+ [[[[7,7],[7,7]],[[7,7],[0,7]]],[[[7,8],[8,8]],[[8,8],[8,7]]]]\n",
      "+ [[[[7,7],[7,0]],[[7,8],[8,7]]],[[[7,7],[7,8]],[[9,6],[0,6]]]]\n",
      "+ [[[[6,6],[6,6]],[[7,7],[9,7]]],[[[6,8],[8,9]],[[8,0],[8,8]]]]\n",
      "+ [[[[7,7],[7,7]],[[6,6],[0,7]]],[[[7,7],[7,7]],[[7,8],[9,9]]]]\n",
      "+ [[[[6,6],[0,6]],[[6,6],[6,7]]],[[[7,7],[7,7]],[[8,8],[8,9]]]]\n",
      "+ [[[[7,7],[0,7]],[[7,7],[7,7]]],[[[7,9],[8,7]],7]]\n",
      "+ [[[[6,6],[6,0]],[[7,7],[8,9]]],[[[7,8],1],7]]\n",
      "+ [[[[7,6],[8,8]],[[8,0],[8,8]]],[[[7,6],[6,6]],[[0,7],8]]]\n",
      "+ [[[[6,6],[6,6]],[[7,7],[0,7]]],[[[8,7],[6,7]],[[8,6],2]]]\n",
      "+ [[[[0,8],[8,7]],[[7,7],[6,6]]],[[[7,7],[7,8]],[[6,7],[0,6]]]]\n",
      "+ [[[[6,7],[7,7]],[[9,7],[7,9]]],[[[5,7],[7,0]],[[8,8],[6,6]]]]\n",
      "+ [[[[7,7],[8,0]],[[8,8],[8,8]]],[[[8,8],[8,8]],[[8,8],[7,7]]]]\n",
      "+ [[[[7,7],[7,7]],[[7,7],[7,7]]],[[[7,0],[7,8]],[[8,7],[8,8]]]]\n",
      "+ [[[[6,6],[6,6]],[[7,7],[7,7]]],[[[7,7],[7,8]],[[7,7],[0,8]]]]\n",
      "+ [[[[6,6],[6,6]],[[6,7],[7,8]]],[[[8,8],[0,8]],[[8,8],[7,7]]]]\n",
      "+ [[[[6,6],[0,6]],[[7,7],[7,7]]],[[[7,7],[7,8]],[8,8]]]\n",
      "+ [[[[7,7],[7,7]],[[7,0],[7,7]]],[[[7,7],[7,7]],[[7,8],[8,9]]]]\n",
      "+ [[[[6,6],[6,7]],[[0,7],[8,7]]],[[[7,8],[7,8]],[[5,0],[6,6]]]]\n",
      "+ [[[[7,7],[7,8]],[[7,7],[7,0]]],[[[8,8],[7,7]],[[6,7],0]]]\n",
      "+ [[[[8,7],[8,8]],[[8,8],[8,0]]],[[[8,9],[9,9]],[[5,5],9]]]\n",
      "+ [[[[6,6],[7,7]],[[7,7],[7,7]]],[[[7,0],[7,7]],[[7,7],[7,7]]]]\n",
      "+ [[[[6,6],[6,6]],[[7,7],[7,7]]],[[[0,7],[7,8]],[[8,8],[8,7]]]]\n",
      "+ [[[[7,7],[7,8]],[[8,0],[8,7]]],[[[8,9],[8,9]],[[8,0],[6,5]]]]\n",
      "+ [[[[6,6],[6,7]],[[7,7],[7,0]]],[[[7,7],[7,7]],[[8,8],[8,8]]]]\n",
      "+ [[[[6,6],[6,7]],[[7,0],[7,7]]],[[[7,7],[7,7]],[[7,7],8]]]\n",
      "+ [[[[0,6],[6,7]],[[7,7],[7,7]]],[[[8,7],[8,8]],[[6,7],[8,6]]]]\n",
      "+ [[[[7,0],[7,7]],[[7,7],[7,7]]],[[[7,8],[8,7]],[[7,6],[6,5]]]]\n",
      "+ [[[[7,7],[7,7]],[[7,7],[7,0]]],[[[7,7],[7,7]],[[7,8],[8,7]]]]\n",
      "+ [[[[7,6],[7,7]],[[0,7],[7,7]]],[[[7,8],[9,9]],[7,8]]]\n",
      "+ [[[[7,7],[7,7]],[[7,0],[8,8]]],[[[7,7],[5,6]],[[6,6],[0,4]]]]\n",
      "+ [[[[7,7],[8,7]],[[8,8],[7,0]]],[[[8,7],[8,9]],9]]\n",
      "+ [[[[7,7],[7,8]],[[8,7],[0,7]]],[[[6,6],[6,7]],6]]\n",
      "= [[[[7,7],[7,8]],[[8,7],[0,7]]],[[[6,6],[6,7]],6]]\n",
      "mag: 3411\n"
     ]
    }
   ],
   "source": [
    "with open('./day18.txt') as f:\n",
    "    part1 = f.read()\n",
    "\n",
    "answer = add_parsed_list(part1)\n",
    "print('=', answer)\n",
    "print('mag:', answer.magnitude())"
   ]
  },
  {
   "cell_type": "markdown",
   "id": "2edb4616",
   "metadata": {},
   "source": [
    "### Part 2\n",
    "(which is somehow easier than Part 1)"
   ]
  },
  {
   "cell_type": "code",
   "execution_count": 18,
   "id": "99c5dd9d",
   "metadata": {},
   "outputs": [],
   "source": [
    "def parse_and_find_max_magnitude_permutation(lines):\n",
    "    expressions = [SnailMathPair.parse(line) for line in lines.split('\\n') if line]\n",
    "    max_magnitude = float('-inf')\n",
    "    max_expr = None, None\n",
    "    for i, first in enumerate(expressions):\n",
    "        for j, second in enumerate(expressions):\n",
    "            if i == j:\n",
    "                continue\n",
    "            expr = first.copy() + second.copy()\n",
    "            expr.reduce()\n",
    "            mag = expr.magnitude()\n",
    "            if mag > max_magnitude:\n",
    "                max_magnitude = mag\n",
    "                max_expr = (first, second)\n",
    "    print('max:', *max_expr)\n",
    "    return max_magnitude"
   ]
  },
  {
   "cell_type": "code",
   "execution_count": 19,
   "id": "ec1010b0",
   "metadata": {},
   "outputs": [
    {
     "name": "stdout",
     "output_type": "stream",
     "text": [
      "max: [[2,[[7,7],7]],[[5,8],[[9,3],[0,2]]]] [[[0,[5,8]],[[1,7],[9,6]]],[[4,[1,2]],[[1,4],2]]]\n"
     ]
    },
    {
     "data": {
      "text/plain": [
       "3993"
      ]
     },
     "execution_count": 19,
     "metadata": {},
     "output_type": "execute_result"
    }
   ],
   "source": [
    "example = '''\n",
    "[[[0,[5,8]],[[1,7],[9,6]]],[[4,[1,2]],[[1,4],2]]]\n",
    "[[[5,[2,8]],4],[5,[[9,9],0]]]\n",
    "[6,[[[6,2],[5,6]],[[7,6],[4,7]]]]\n",
    "[[[6,[0,7]],[0,9]],[4,[9,[9,0]]]]\n",
    "[[[7,[6,4]],[3,[1,3]]],[[[5,5],1],9]]\n",
    "[[6,[[7,3],[3,2]]],[[[3,8],[5,7]],4]]\n",
    "[[[[5,4],[7,7]],8],[[8,3],8]]\n",
    "[[9,3],[[9,9],[6,[4,9]]]]\n",
    "[[2,[[7,7],7]],[[5,8],[[9,3],[0,2]]]]\n",
    "[[[[5,2],5],[8,[3,7]]],[[5,[7,5]],[4,4]]]\n",
    "'''\n",
    "\n",
    "parse_and_find_max_magnitude_permutation(example)"
   ]
  },
  {
   "cell_type": "code",
   "execution_count": 20,
   "id": "c1b0ed61",
   "metadata": {},
   "outputs": [
    {
     "name": "stdout",
     "output_type": "stream",
     "text": [
      "max: [[[3,7],[[9,8],8]],[[[8,4],7],[3,[1,7]]]] [[[2,[8,6]],[[9,8],2]],[[9,5],[1,[9,8]]]]\n"
     ]
    },
    {
     "data": {
      "text/plain": [
       "4680"
      ]
     },
     "execution_count": 20,
     "metadata": {},
     "output_type": "execute_result"
    }
   ],
   "source": [
    "with open('./day18.txt') as f:\n",
    "    part2 = f.read()\n",
    "parse_and_find_max_magnitude_permutation(part2)"
   ]
  }
 ],
 "metadata": {
  "kernelspec": {
   "display_name": "Python 3",
   "language": "python",
   "name": "python3"
  },
  "language_info": {
   "codemirror_mode": {
    "name": "ipython",
    "version": 3
   },
   "file_extension": ".py",
   "mimetype": "text/x-python",
   "name": "python",
   "nbconvert_exporter": "python",
   "pygments_lexer": "ipython3",
   "version": "3.6.13"
  }
 },
 "nbformat": 4,
 "nbformat_minor": 5
}
