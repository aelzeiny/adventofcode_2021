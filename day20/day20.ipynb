{
 "cells": [
  {
   "cell_type": "code",
   "execution_count": 1,
   "id": "43f5f7dd",
   "metadata": {},
   "outputs": [],
   "source": [
    "from collections import defaultdict"
   ]
  },
  {
   "cell_type": "code",
   "execution_count": 11,
   "id": "55b6d468",
   "metadata": {},
   "outputs": [],
   "source": [
    "class SparseImg:\n",
    "    def __init__(self, inversed: bool):\n",
    "        self.grid = set()\n",
    "        self.inversed = inversed\n",
    "        self.min_row = None\n",
    "        self.max_row = None\n",
    "        self.min_col = None\n",
    "        self.max_col = None\n",
    "        \n",
    "    def __setitem__(self, key, value):\n",
    "        if (self.inversed and value) or (not self.inversed and not value):\n",
    "            return\n",
    "        r, c = key\n",
    "        if self.min_row is None or r < self.min_row:\n",
    "            self.min_row = r\n",
    "        if self.max_row is None or r > self.max_row:\n",
    "            self.max_row = r\n",
    "        if self.min_col is None or c < self.min_col:\n",
    "            self.min_col = c\n",
    "        if self.max_col is None or c > self.max_col:\n",
    "            self.max_col = c\n",
    "        self.grid.add(key)\n",
    "    \n",
    "    def __getitem__(self, key):\n",
    "        return key in self.grid if not self.inversed else key not in self.grid\n",
    "    \n",
    "    def enhance(self, algo: str, enhanced_is_inversed: bool) -> 'SparseImg':\n",
    "        new_img = self.__class__(inversed=enhanced_is_inversed)\n",
    "        for r in range(self.min_row - 1, self.max_row + 2):\n",
    "            for c in range(self.min_col - 1, self.max_col + 2):\n",
    "                binary_idx = []\n",
    "                for rr in range(r - 1 , r + 2):\n",
    "                    for cc in range(c - 1, c + 2):\n",
    "#                         print(rr, cc, self[(rr, cc)])\n",
    "                        binary_idx.append('1' if self[(rr, cc)] else '0')\n",
    "                decimal_idx = int(''.join(binary_idx), 2)\n",
    "#                 print(decimal_idx)\n",
    "                new_img[(r, c)] = algo[decimal_idx] == '#'\n",
    "        return new_img\n",
    "    \n",
    "    @classmethod\n",
    "    def parse(cls, lines, *args, **kwargs):\n",
    "        input_img = cls(*args, **kwargs)\n",
    "        for r, l in enumerate(lines):\n",
    "            for c, char in enumerate(l):\n",
    "                input_img[(r,c)] = char == '#'\n",
    "        return input_img\n",
    "    \n",
    "    def __repr__(self):\n",
    "        return str(self.grid)\n",
    "    \n",
    "    def __str__(self):\n",
    "        iv = 'inversed' if self.inversed else 'normal'\n",
    "        return iv + '\\n' + '\\n'.join([\n",
    "            ''.join(['#' if self[(r, c)] else '.' for c in range(self.min_col-1, self.max_col + 2)]) \n",
    "            for r in range(self.min_row-1, self.max_row + 2)\n",
    "        ])\n",
    "    \n",
    "    def __len__(self):\n",
    "        return len(self.grid) if not self.inversed else float('inf')"
   ]
  },
  {
   "cell_type": "markdown",
   "id": "0f42546e",
   "metadata": {},
   "source": [
    "# Example"
   ]
  },
  {
   "cell_type": "code",
   "execution_count": 4,
   "id": "541ba0d6",
   "metadata": {},
   "outputs": [
    {
     "name": "stdout",
     "output_type": "stream",
     "text": [
      "img\n",
      "normal\n",
      ".......\n",
      ".#..#..\n",
      ".#.....\n",
      ".##..#.\n",
      "...#...\n",
      "...###.\n",
      ".......\n",
      "\n",
      "img\n",
      "inversed\n",
      "#######\n",
      "##..#.#\n",
      "##....#\n",
      "###..##\n",
      "#..#..#\n",
      "#..####\n",
      "#######\n",
      "\n"
     ]
    }
   ],
   "source": [
    "\n",
    "with open('./day20_example_input.txt', 'r') as f:\n",
    "    lines = [l.strip() for l in f.readlines() if l.strip()]\n",
    "\n",
    "enhancement_algo, *input_img_str = lines\n",
    "img = SparseImg.parse(input_img_str)\n",
    "img_i = SparseImg.parse(input_img_str, inversed=True)\n",
    "print('img')\n",
    "print(str(img), end='\\n\\n')\n",
    "print('img')\n",
    "print(str(img_i), end='\\n\\n')"
   ]
  },
  {
   "cell_type": "code",
   "execution_count": 5,
   "id": "59b69e29",
   "metadata": {},
   "outputs": [
    {
     "data": {
      "text/plain": [
       "{(-1, 4), (-1, 0), (3, 0), (2, 1), (2, 5), (1, -1), (1, 2), (-1, 1), (3, 3), (1, 5), (2, 2), (0, 4), (4, 1), (5, 4), (4, 5), (2, -1), (5, 2), (4, 2), (1, 0), (-1, 3), (2, 0), (0, -1), (3, 4), (0, 2)}"
      ]
     },
     "execution_count": 5,
     "metadata": {},
     "output_type": "execute_result"
    }
   ],
   "source": [
    "img.enhance(enhancement_algo, enhanced_is_inversed=False)"
   ]
  },
  {
   "cell_type": "code",
   "execution_count": 6,
   "id": "72891f09",
   "metadata": {},
   "outputs": [
    {
     "data": {
      "text/plain": [
       "{(3, 0), (2, 1), (0, 3), (1, -1), (1, 2), (-1, 1), (3, 3), (5, 5), (1, 5), (2, 2), (-1, -1), (3, 4), (4, 1), (5, -1), (5, 4), (4, 5), (5, 3), (0, 1), (3, 5), (0, -1), (5, 2), (0, 2)}"
      ]
     },
     "execution_count": 6,
     "metadata": {},
     "output_type": "execute_result"
    }
   ],
   "source": [
    "img_i.enhance(enhancement_algo, enhanced_is_inversed=False)"
   ]
  },
  {
   "cell_type": "code",
   "execution_count": null,
   "id": "bb4de312",
   "metadata": {},
   "outputs": [],
   "source": []
  },
  {
   "cell_type": "code",
   "execution_count": 7,
   "id": "09e93bb6",
   "metadata": {},
   "outputs": [],
   "source": [
    "# enhancement_algo = '#' + enhancement_algo[1:]\n",
    "# enhancement_algo"
   ]
  },
  {
   "cell_type": "code",
   "execution_count": 30,
   "id": "d8659943",
   "metadata": {},
   "outputs": [
    {
     "name": "stdout",
     "output_type": "stream",
     "text": [
      "img\n",
      "normal\n",
      ".......\n",
      ".#..#..\n",
      ".#.....\n",
      ".##..#.\n",
      "...#...\n",
      "...###.\n",
      ".......\n",
      "\n",
      "img2\n",
      "normal\n",
      ".........\n",
      "..##.##..\n",
      ".#..#.#..\n",
      ".##.#..#.\n",
      ".####..#.\n",
      "..#..##..\n",
      "...##..#.\n",
      "....#.#..\n",
      ".........\n",
      "\n",
      "img3\n",
      "normal\n",
      "...........\n",
      "........#..\n",
      "..#..#.#...\n",
      ".#.#...###.\n",
      ".#...##.#..\n",
      ".#.....#.#.\n",
      "..#.#####..\n",
      "...#.#####.\n",
      "....##.##..\n",
      ".....###...\n",
      "...........\n",
      "\n"
     ]
    }
   ],
   "source": [
    "def ex():\n",
    "    with open('./day20_example_input.txt', 'r') as f:\n",
    "        lines = [l.strip() for l in f.readlines() if l.strip()]\n",
    "\n",
    "    enhancement_algo, *input_img_str = lines\n",
    "    inverse_algo = enhancement_algo.replace('#', '-').replace('.', '#')\n",
    "    img = SparseImg.parse(input_img_str, inversed=False)\n",
    "    print('img')\n",
    "    print(str(img), end='\\n\\n')\n",
    "    \n",
    "    img2 = img.enhance(enhancement_algo, enhanced_is_inversed=False)\n",
    "    print('img2')\n",
    "    print(str(img2), end='\\n\\n')\n",
    "    \n",
    "    img3 = img2.enhance(enhancement_algo, enhanced_is_inversed=False)\n",
    "    print('img3')\n",
    "    print(str(img3), end='\\n\\n')\n",
    "    \n",
    "ex()"
   ]
  },
  {
   "cell_type": "markdown",
   "id": "6a126f85",
   "metadata": {},
   "source": [
    "# Part 1"
   ]
  },
  {
   "cell_type": "code",
   "execution_count": 27,
   "id": "07a479a2",
   "metadata": {},
   "outputs": [],
   "source": [
    "with open('./day20_input.txt', 'r') as f:\n",
    "    lines = [l.strip() for l in f.readlines() if l.strip()]\n",
    "    \n",
    "enhancement_algo, *input_img_str = lines\n",
    "img = SparseImg.parse(input_img_str, inversed=False)\n",
    "img = img.enhance(enhancement_algo, enhanced_is_inversed=True)\n",
    "img = img.enhance(enhancement_algo, enhanced_is_inversed=False)"
   ]
  },
  {
   "cell_type": "code",
   "execution_count": 28,
   "id": "01266225",
   "metadata": {},
   "outputs": [
    {
     "data": {
      "text/plain": [
       "5571"
      ]
     },
     "execution_count": 28,
     "metadata": {},
     "output_type": "execute_result"
    }
   ],
   "source": [
    "len(img)"
   ]
  },
  {
   "cell_type": "markdown",
   "id": "e27c98d4",
   "metadata": {},
   "source": [
    "# Part 2"
   ]
  },
  {
   "cell_type": "code",
   "execution_count": 25,
   "id": "b210666b",
   "metadata": {},
   "outputs": [],
   "source": [
    "with open('./day20_input.txt', 'r') as f:\n",
    "    lines = [l.strip() for l in f.readlines() if l.strip()]\n",
    "    \n",
    "enhancement_algo, *input_img_str = lines\n",
    "img = SparseImg.parse(input_img_str, inversed=False)\n",
    "\n",
    "for i in range(50):\n",
    "    img = img.enhance(enhancement_algo, enhanced_is_inversed=i % 2 == 0)\n"
   ]
  },
  {
   "cell_type": "code",
   "execution_count": 26,
   "id": "ada2f7b9",
   "metadata": {},
   "outputs": [
    {
     "data": {
      "text/plain": [
       "17965"
      ]
     },
     "execution_count": 26,
     "metadata": {},
     "output_type": "execute_result"
    }
   ],
   "source": [
    "len(img)"
   ]
  }
 ],
 "metadata": {
  "kernelspec": {
   "display_name": "Python 3",
   "language": "python",
   "name": "python3"
  },
  "language_info": {
   "codemirror_mode": {
    "name": "ipython",
    "version": 3
   },
   "file_extension": ".py",
   "mimetype": "text/x-python",
   "name": "python",
   "nbconvert_exporter": "python",
   "pygments_lexer": "ipython3",
   "version": "3.6.13"
  }
 },
 "nbformat": 4,
 "nbformat_minor": 5
}
