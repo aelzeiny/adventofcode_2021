{
 "cells": [
  {
   "cell_type": "code",
   "execution_count": 65,
   "id": "cc8e2795",
   "metadata": {},
   "outputs": [],
   "source": [
    "with open('./day16_input.txt') as f:\n",
    "    compressed = f.read()"
   ]
  },
  {
   "cell_type": "code",
   "execution_count": 82,
   "id": "33a07674",
   "metadata": {},
   "outputs": [],
   "source": [
    "compresed_to_binary = {\n",
    "    '0': '0000',\n",
    "    '1': '0001',\n",
    "    '2': '0010',\n",
    "    '3': '0011',\n",
    "    '4': '0100',\n",
    "    '5': '0101',\n",
    "    '6': '0110',\n",
    "    '7': '0111',\n",
    "    '8': '1000',\n",
    "    '9': '1001',\n",
    "    'A': '1010',\n",
    "    'B': '1011',\n",
    "    'C': '1100',\n",
    "    'D': '1101',\n",
    "    'E': '1110',\n",
    "    'F': '1111',\n",
    "}"
   ]
  },
  {
   "cell_type": "code",
   "execution_count": 83,
   "id": "c2041fa7",
   "metadata": {},
   "outputs": [],
   "source": [
    "def uncompress(compressed: str):\n",
    "    return ''.join([compresed_to_binary[c] for c in compressed if c != '\\n'])"
   ]
  },
  {
   "cell_type": "code",
   "execution_count": 84,
   "id": "f69e1cc2",
   "metadata": {},
   "outputs": [
    {
     "data": {
      "text/plain": [
       "'10100010000011010111100100000000010000101111000100100111010000000001000110010101010101001001000110000000100010111000000000101111000111000110000010110010000000000011000000110010011110101111001011001100001001001000101010101000000000001110011111001101110101110010011011110011110101111000111101001001011001101111010101110001101000110000000010111010010101001101011001101000111000100101000110010010010010010010011001010001011000001000000000111110101010011101111001010110001010100001100000000001001000000100101011001110010100111100100101010100101011001110010100111100100101001100011001011001101111011111001100011000111111010001001101100110111011110100010011011001011011101011000100010000000001011111101100111001000101010100111000000000011010001010011111000011101001101011001101111001011001000110110010000000001101001000101000000000010101011110011001100100001010110011001100100001000010011011100011010110111100001111000100101001100000000100010100101100100111010011001000101011001010000000000100101110110001110010110101010001101100110000000001000010011011001111011100000000000101111001100101101101111001101100001010110010110001110000110000000001101000000100101101100111101110011111100111101100100011011010111111100110011110011101000010011001001010101000000000111000000000010000010000000110010111111010100000000001001010000000010110111101001110000000000100100000000001010001111000111000000000010100011000000000011000111000000000010100001000000000010010100000000011101001001000000000001101001100000010000000000111001010000000000111101100000000100110010100001000000000010100110000000001110001010001000000000101101110001010000000000110001000000000001100110011001000110010111011010111111110011110011010001111011001000111100001110111001001111110110001010100011010000100000000011011001100000000011000100010010111000011010110000100001001100000000011101100011101011000010011010001000011001000000000010000100110000101011100000110011000110000101010000000010100110001011000100111010000000010010100001100001001011010110011110011001100000010000001000000001001000101110011110100000001010110110000000001001100010000000001110010001110000100000100001000011110100000000000001000010001000010111010000110001100000110010011000000000100101001010010001001010111111000000000100101001011110011100001101010111011100101001100001011001001000000000101000100010010110111111010101001011110100000000010100100101011010000000101100100100111000000100000000100000110101111000000000101001001010011011111101001101110001100101001101111110100110111010010011100111011011010011110001000110011110110110000010011000100001101011011111011110111101000001100110000000000110011111100110111110011000111011100011010101101001000001010001100000000001010100100100110001100110000000001110100000000000001000010001000101001010001111001100010010000001000000000111001000100001110001010100100010111000000000000000100001111100010001111000011101010001001010001100000000010110100110011111111101001011101101000000000100101001110001110111100111000111000100100000000011011100001001100101000000101000000000100100000110011010100101001110011010010101001011011110110011101110110101100010101100110000000001001110011000011001111101000000000100100001000000000110011000101001010001110011100011111010000000000000100001010100011011111000011000110000111011000000000000010101101010000011101100111000110011010010111010100000110000000001101001000100100011000100101011100111111010011001000000111001100001111011100111001101000010001100111001011001011101010000000000111001011010010010111101000011100001110101001000110010111100001100010011111110111000001000100100110101011110100101110010001000100000000101000000011011000000000101000001000000000110111000100111110001011111100011111010000000000000100001110100010010111000011101110001010000100101111100010011101001011100110010001000000001001000010010010001001101001111000000000100100000000000000100001101100011110001000111110110000100111000000000000010000110010001011101100010011001000110000100100000000010110100001010000000000110100101100101111100111111001111111001011111001111110011111010010111011100000111000000000111011001001010010100001101101111111100110001010001110000100101001111010111100101101110100100000111100100010000000001011110011110100001010001001010100001011100011000000000100101011000000000101101001101111011001010001001010111111110010011000110011011000011111000110110100100000000001000001001001011000001000100110000000011100010000000010111010010101001010011001100110011101010111011010011011000101111000011111010010001100001100011000100001111011111000101110010000000001111000100100111111000001011000101000000000100110101110010011101101011110100101101110111101101111100000010100100110001011001110110000000000000000101111110001111100001000000000100000100110001000101110000000000010000011010000110101100110101000101101000001000000001000011101010100000000001111101101001111010011100101101110000110011010000100010100100100000101010011111100101000110101100001101011110100000000000000100000000100101001101100000000001101110011000000000000010000101110000011001100000100011000010011000000000000001000011101000011011010001111011100001010001001010001110110000100000000100011100101111001100010101100100011011100100110100101011011110111110001101100000011100000011100101000000000010101001010010100110110010010100100000000001100001011001000100110100100111000101010010010100011010000'"
      ]
     },
     "execution_count": 84,
     "metadata": {},
     "output_type": "execute_result"
    }
   ],
   "source": [
    "binary = uncompress(compressed)\n",
    "binary"
   ]
  },
  {
   "cell_type": "code",
   "execution_count": 85,
   "id": "4d8a8f35",
   "metadata": {},
   "outputs": [],
   "source": [
    "def parse_version(bi: str, cur: int):\n",
    "    return int(bi[cur:cur + 3], 2), cur + 3\n",
    "\n",
    "def parse_type_id(bi: str, cur: int):\n",
    "    return int(bi[cur:cur+3], 2), cur + 3\n",
    "\n",
    "def parse_literal(bi: str, cur: int):\n",
    "    to_continue = True\n",
    "    val = ''\n",
    "    while to_continue:\n",
    "        to_continue = bi[cur] == '1'\n",
    "        val += bi[cur+1: cur+5]\n",
    "        cur += 5\n",
    "    return int(val, 2), cur\n",
    "\n",
    "def parse_length_type_id(bi: str, cur: int):\n",
    "    return int(bi[cur], 2), cur + 1\n",
    "    \n",
    "def parse_number_of_packets(bi: str, cur: int):\n",
    "    return int(bi[cur:cur+11], 2), cur+11\n",
    "\n",
    "def parse_len_of_packets(bi: str, cur: int):\n",
    "    return int(bi[cur:cur+15], 2), cur+15"
   ]
  },
  {
   "cell_type": "code",
   "execution_count": 86,
   "id": "46d9ecc7",
   "metadata": {},
   "outputs": [],
   "source": [
    "from typing import List\n",
    "\n",
    "def do_operation(type_id: int, other_vals: List[int]):\n",
    "    \"\"\"\n",
    "    Packets with type ID 0 are sum packets - their value is the sum of the values of their sub-packets. If they only have a single sub-packet, their value is the value of the sub-packet.\n",
    "    Packets with type ID 1 are product packets - their value is the result of multiplying together the values of their sub-packets. If they only have a single sub-packet, their value is the value of the sub-packet.\n",
    "    Packets with type ID 2 are minimum packets - their value is the minimum of the values of their sub-packets.\n",
    "    Packets with type ID 3 are maximum packets - their value is the maximum of the values of their sub-packets.\n",
    "    Packets with type ID 5 are greater than packets - their value is 1 if the value of the first sub-packet is greater than the value of the second sub-packet; otherwise, their value is 0. These packets always have exactly two sub-packets.\n",
    "    Packets with type ID 6 are less than packets - their value is 1 if the value of the first sub-packet is less than the value of the second sub-packet; otherwise, their value is 0. These packets always have exactly two sub-packets.\n",
    "    Packets with type ID 7 are equal to packets - their value is 1 if the value of the first sub-packet is equal to the value of the second sub-packet; otherwise, their value is 0. These packets always have exactly two sub-packets.\n",
    "    \"\"\"\n",
    "    if type_id == 0:\n",
    "        return sum(other_vals)\n",
    "    elif type_id == 1:\n",
    "        prod = 1\n",
    "        for v in other_vals:\n",
    "            prod *= v\n",
    "        return prod\n",
    "    elif type_id == 2:\n",
    "        return min(other_vals)\n",
    "    elif type_id == 3:\n",
    "        return max(other_vals)\n",
    "    elif type_id == 5:\n",
    "        a_val, b_val = other_vals\n",
    "        return 1 if a_val > b_val else 0\n",
    "    elif type_id == 6:\n",
    "        a_val, b_val = other_vals\n",
    "        return 1 if a_val < b_val else 0\n",
    "    elif type_id == 7:\n",
    "        a_val, b_val = other_vals\n",
    "        return 1 if a_val == b_val else 0\n",
    "    raise ValueError(type_id)\n",
    "    \n",
    "    "
   ]
  },
  {
   "cell_type": "code",
   "execution_count": 87,
   "id": "3cf1ad8f",
   "metadata": {},
   "outputs": [],
   "source": [
    "version_sum = 0\n",
    "\n",
    "\n",
    "def parse_packet(binary: str, cur: int = 0):\n",
    "    global version_sum\n",
    "    v, cur = parse_version(binary, cur)\n",
    "    version_sum += v\n",
    "    t_id, cur = parse_type_id(binary, cur)\n",
    "    if t_id == 4:\n",
    "        lit, cur = parse_literal(binary, cur)\n",
    "        return lit, cur\n",
    "    else:\n",
    "        lt, cur = parse_length_type_id(binary, cur)\n",
    "        if lt == 0:\n",
    "            subpacket_len, cur = parse_len_of_packets(binary, cur)\n",
    "            other_cur = cur\n",
    "            other_vals = []\n",
    "            while other_cur - cur < subpacket_len:\n",
    "                other_val, other_cur = parse_packet(binary, other_cur)\n",
    "                other_vals.append(other_val)\n",
    "            return do_operation(t_id, other_vals), other_cur\n",
    "        else:\n",
    "            num_packets, cur = parse_number_of_packets(binary, cur)\n",
    "            other_vals = []\n",
    "            for i in range(num_packets):\n",
    "                other_val, cur = parse_packet(binary, cur)\n",
    "                other_vals.append(other_val)\n",
    "            return do_operation(t_id, other_vals), cur"
   ]
  },
  {
   "cell_type": "code",
   "execution_count": 92,
   "id": "e36c7650",
   "metadata": {
    "scrolled": false
   },
   "outputs": [
    {
     "name": "stdout",
     "output_type": "stream",
     "text": [
      "PART 1 854\n",
      "PART 2 186189840660\n"
     ]
    }
   ],
   "source": [
    "version_sum = 0 \n",
    "answer, _ = parse_packet(binary)\n",
    "print('PART 1', version_sum)\n",
    "print('PART 2', answer)"
   ]
  }
 ],
 "metadata": {
  "kernelspec": {
   "display_name": "Python 3",
   "language": "python",
   "name": "python3"
  },
  "language_info": {
   "codemirror_mode": {
    "name": "ipython",
    "version": 3
   },
   "file_extension": ".py",
   "mimetype": "text/x-python",
   "name": "python",
   "nbconvert_exporter": "python",
   "pygments_lexer": "ipython3",
   "version": "3.6.13"
  }
 },
 "nbformat": 4,
 "nbformat_minor": 5
}
